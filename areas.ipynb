{
 "cells": [
  {
   "cell_type": "markdown",
   "id": "29e86d05",
   "metadata": {},
   "source": [
    "# Create 3 functions that prints the area of a circle, triangle, square, and rectangle."
   ]
  },
  {
   "cell_type": "markdown",
   "id": "af678979",
   "metadata": {},
   "source": [
    "## Below is a function that will return the area of a square"
   ]
  },
  {
   "cell_type": "code",
   "execution_count": 2,
   "id": "80a71971",
   "metadata": {},
   "outputs": [],
   "source": [
    "def area_of_square(x: float) -> float: \n",
    "    \"\"\"takes a float and returns the area of a square.\n",
    "    A = a^2\n",
    "    \"\"\"\n",
    "    return x ** 2"
   ]
  },
  {
   "cell_type": "code",
   "execution_count": 5,
   "id": "1bbe6e74",
   "metadata": {},
   "outputs": [
    {
     "name": "stdout",
     "output_type": "stream",
     "text": [
      "The area of a square of side 12 is 144\n"
     ]
    }
   ],
   "source": [
    "side = 12\n",
    "print(\"The area of a square of side\", side, \"is\", area_of_square(side))"
   ]
  },
  {
   "cell_type": "markdown",
   "id": "b358b27f",
   "metadata": {},
   "source": [
    "## Below is a function that will return the area of a rectangle"
   ]
  },
  {
   "cell_type": "code",
   "execution_count": 1,
   "id": "ae6a0f0a",
   "metadata": {},
   "outputs": [],
   "source": [
    "def area_of_rectangle(x, y: float) -> float:\n",
    "    \"\"\"takes a float and returns the area of a rectangle\n",
    "    A = wl\n",
    "    \"\"\"\n",
    "    return x * y"
   ]
  },
  {
   "cell_type": "code",
   "execution_count": 8,
   "id": "b8556da0",
   "metadata": {},
   "outputs": [
    {
     "name": "stdout",
     "output_type": "stream",
     "text": [
      "The area of a rectangle, width 4 times length 10 is 40\n"
     ]
    }
   ],
   "source": [
    "x = 4\n",
    "y = 10\n",
    "print(\"The area of a rectangle, width\", x, \"times length\", y, \"is\", area_of_rectangle(x * y))"
   ]
  },
  {
   "cell_type": "markdown",
   "id": "36415bab",
   "metadata": {},
   "source": [
    "## Below is a function that will return the area of a circle"
   ]
  },
  {
   "cell_type": "code",
   "execution_count": 11,
   "id": "0285f1b0",
   "metadata": {},
   "outputs": [],
   "source": [
    "def area_of_circle(x: float) -> float:\n",
    "    \"\"\"takes a float and returns the area of a circle\n",
    "    A = 3.14r^2\n",
    "    \"\"\"\n",
    "    return 3.1416 * x ** 2"
   ]
  },
  {
   "cell_type": "code",
   "execution_count": 12,
   "id": "180dd552",
   "metadata": {},
   "outputs": [
    {
     "name": "stdout",
     "output_type": "stream",
     "text": [
      "The area of a circle, when radius is 3 is 28.2744\n"
     ]
    }
   ],
   "source": [
    "x = 3\n",
    "print(\"The area of a circle, when radius is\", x, \"is\", area_of_circle(x))"
   ]
  },
  {
   "cell_type": "markdown",
   "id": "33d4c126",
   "metadata": {},
   "source": [
    "## Below is a function that will return the area of a triangle"
   ]
  },
  {
   "cell_type": "code",
   "execution_count": null,
   "id": "3c360910",
   "metadata": {},
   "outputs": [],
   "source": [
    "def area_of_triangle(x: float) -> float:\n",
    "    \"\"\"takes a float and retruns the area of a triangle\n",
    "    A = h\n",
    "    \"\"\""
   ]
  }
 ],
 "metadata": {
  "kernelspec": {
   "display_name": "Python 3 (ipykernel)",
   "language": "python",
   "name": "python3"
  },
  "language_info": {
   "codemirror_mode": {
    "name": "ipython",
    "version": 3
   },
   "file_extension": ".py",
   "mimetype": "text/x-python",
   "name": "python",
   "nbconvert_exporter": "python",
   "pygments_lexer": "ipython3",
   "version": "3.9.7"
  }
 },
 "nbformat": 4,
 "nbformat_minor": 5
}
