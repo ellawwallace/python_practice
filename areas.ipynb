{
 "cells": [
  {
   "cell_type": "markdown",
   "id": "29e86d05",
   "metadata": {},
   "source": [
    "# Create 3 functions that prints the area of a circle, triangle, square, and rectangle."
   ]
  },
  {
   "cell_type": "markdown",
   "id": "af678979",
   "metadata": {},
   "source": [
    "## Below is a function that will return the area of a square"
   ]
  },
  {
   "cell_type": "code",
   "execution_count": 2,
   "id": "80a71971",
   "metadata": {},
   "outputs": [],
   "source": [
    "def area_of_square(x: float) -> float: \n",
    "    \"\"\"takes a float and returns the area of a square.\n",
    "    A = a^2\n",
    "    \"\"\"\n",
    "    return x ** 2"
   ]
  },
  {
   "cell_type": "code",
   "execution_count": 5,
   "id": "1bbe6e74",
   "metadata": {},
   "outputs": [
    {
     "name": "stdout",
     "output_type": "stream",
     "text": [
      "The area of a square of side 12 is 144\n"
     ]
    }
   ],
   "source": [
    "side = 12\n",
    "print(\"The area of a square of side\", side, \"is\", area_of_square(side))"
   ]
  },
  {
   "cell_type": "code",
   "execution_count": null,
   "id": "de5328d0",
   "metadata": {},
   "outputs": [],
   "source": []
  }
 ],
 "metadata": {
  "kernelspec": {
   "display_name": "Python 3 (ipykernel)",
   "language": "python",
   "name": "python3"
  },
  "language_info": {
   "codemirror_mode": {
    "name": "ipython",
    "version": 3
   },
   "file_extension": ".py",
   "mimetype": "text/x-python",
   "name": "python",
   "nbconvert_exporter": "python",
   "pygments_lexer": "ipython3",
   "version": "3.9.7"
  }
 },
 "nbformat": 4,
 "nbformat_minor": 5
}
