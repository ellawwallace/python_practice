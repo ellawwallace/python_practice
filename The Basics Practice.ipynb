{
 "cells": [
  {
   "cell_type": "markdown",
   "id": "9385a40d",
   "metadata": {},
   "source": [
    "## Practice variable"
   ]
  },
  {
   "cell_type": "code",
   "execution_count": 4,
   "id": "c4f07b14",
   "metadata": {},
   "outputs": [],
   "source": [
    "first_name = \"ella\"\n",
    "last_name = \"wallace\""
   ]
  },
  {
   "cell_type": "code",
   "execution_count": 6,
   "id": "1454ed54",
   "metadata": {},
   "outputs": [
    {
     "name": "stdout",
     "output_type": "stream",
     "text": [
      "ella\n",
      "wallace\n"
     ]
    }
   ],
   "source": [
    "print(first_name)\n",
    "print(last_name)"
   ]
  },
  {
   "cell_type": "markdown",
   "id": "f81ece07",
   "metadata": {},
   "source": [
    "## strings"
   ]
  },
  {
   "cell_type": "code",
   "execution_count": 7,
   "id": "8fd9bac5",
   "metadata": {},
   "outputs": [],
   "source": [
    "name = \"Ella Wallace\"\n",
    "name = 'Ella Wallace'\n",
    "\n",
    "movie_line = \"What film is this? 'Show me the money!' \"\n",
    "\n",
    "start_now = 'Let\\s get started with Python.'"
   ]
  },
  {
   "cell_type": "code",
   "execution_count": 12,
   "id": "944055c5",
   "metadata": {},
   "outputs": [
    {
     "name": "stdout",
     "output_type": "stream",
     "text": [
      "What film is this? 'Show me the money!' \n"
     ]
    }
   ],
   "source": [
    "print(movie_line)\n"
   ]
  },
  {
   "cell_type": "markdown",
   "id": "6a954371",
   "metadata": {},
   "source": [
    "## concatenation string"
   ]
  },
  {
   "cell_type": "code",
   "execution_count": 15,
   "id": "3bbf9556",
   "metadata": {},
   "outputs": [
    {
     "name": "stdout",
     "output_type": "stream",
     "text": [
      "Hi Ella\n",
      "Dear Miss. Wallace\n",
      "EllaWallace\n",
      "Ella Wallace\n"
     ]
    }
   ],
   "source": [
    "#combining strings\n",
    "\n",
    "name = \"Ella Wallace\"\n",
    "\n",
    "first_name = \"Ella\"\n",
    "last_name = \"Wallace\"\n",
    "\n",
    "print(\"Hi \" + first_name)\n",
    "\n",
    "print(\"Dear Miss. \" + last_name)\n",
    "\n",
    "\n",
    "print(first_name + last_name)\n",
    "\n",
    "#no spaces ^\n",
    "\n",
    "\n",
    "print(first_name + \" \" + last_name)\n",
    "\n",
    "#with space^\n"
   ]
  },
  {
   "cell_type": "markdown",
   "id": "00b790a8",
   "metadata": {},
   "source": [
    "## string title method"
   ]
  },
  {
   "cell_type": "code",
   "execution_count": 18,
   "id": "0393d125",
   "metadata": {},
   "outputs": [
    {
     "name": "stdout",
     "output_type": "stream",
     "text": [
      "Ella\n",
      "Ella Wallace\n",
      "Wallace\n"
     ]
    }
   ],
   "source": [
    "name = \"ella wallace\"\n",
    "\n",
    "first_name = \"ella\"\n",
    "last_name = \"wallace\"\n",
    "\n",
    "print(first_name.title())\n",
    "\n",
    "#string title method: how to capitalize first letter if not cpaitalized,  \".title()\"\n",
    "\n",
    "print(name.title())\n",
    "\n",
    "print(last_name.title())"
   ]
  },
  {
   "cell_type": "markdown",
   "id": "35d021c9",
   "metadata": {},
   "source": [
    "## Find Method"
   ]
  },
  {
   "cell_type": "code",
   "execution_count": 22,
   "id": "898e9797",
   "metadata": {},
   "outputs": [
    {
     "name": "stdout",
     "output_type": "stream",
     "text": [
      "21\n",
      "0\n"
     ]
    }
   ],
   "source": [
    "my_book = \"My favorite book is 'Harry Potter'.\".find('Harry')\n",
    "\n",
    "print(my_book)\n",
    "\n",
    "#Finds the index starting with 0..1,2,3...etc \n",
    "\n",
    "\n",
    "subject = \"$$$ Get Rich Now $$$\".find('$$$')\n",
    "print(subject)"
   ]
  },
  {
   "cell_type": "markdown",
   "id": "2cd5a555",
   "metadata": {},
   "source": [
    "## Lower Method"
   ]
  },
  {
   "cell_type": "code",
   "execution_count": 1,
   "id": "3385be0f",
   "metadata": {},
   "outputs": [
    {
     "name": "stdout",
     "output_type": "stream",
     "text": [
      "ella wallace\n"
     ]
    }
   ],
   "source": [
    "name = \"ELLA WALLACE\".lower()\n",
    "print(name)\n",
    "\n",
    "#How to transfer all letters to lower case\n"
   ]
  },
  {
   "cell_type": "markdown",
   "id": "41109ca9",
   "metadata": {},
   "source": [
    "## Replace Method"
   ]
  },
  {
   "cell_type": "code",
   "execution_count": 2,
   "id": "d1685217",
   "metadata": {},
   "outputs": [
    {
     "name": "stdout",
     "output_type": "stream",
     "text": [
      "My favorite book is 'Elon Musk'.\n"
     ]
    }
   ],
   "source": [
    "#How to find a word, and replace it\n",
    "\n",
    "\n",
    "my_book = \"My favorite book is 'Elom Musk'.\".replace('Elom', 'Elon')\n",
    "print(my_book)"
   ]
  },
  {
   "cell_type": "markdown",
   "id": "f7c44cee",
   "metadata": {},
   "source": [
    "## Strip Method"
   ]
  },
  {
   "cell_type": "code",
   "execution_count": 33,
   "id": "d818d4f8",
   "metadata": {},
   "outputs": [
    {
     "name": "stdout",
     "output_type": "stream",
     "text": [
      "    102 Main Street\n"
     ]
    }
   ],
   "source": [
    "address = \"    102 Main Street      \"\n",
    "print(address.rstrip())\n",
    "\n",
    "#if someone put spaces before or after it gets rid of it. if you want to get rid of extra space of left side of text (.lstrip()), if on right side of text (.rstrip())\n"
   ]
  },
  {
   "cell_type": "markdown",
   "id": "23fe4564",
   "metadata": {},
   "source": [
    "## Adding White Space"
   ]
  },
  {
   "cell_type": "code",
   "execution_count": 11,
   "id": "50957836",
   "metadata": {},
   "outputs": [
    {
     "name": "stdout",
     "output_type": "stream",
     "text": [
      "101 Main Street \tUSA\n",
      "102 Main Street \n",
      "USA\n"
     ]
    }
   ],
   "source": [
    "address = \"101 Main Street \\tUSA\"\n",
    "print(address)\n",
    "\n",
    "address = \"102 Main Street \\nUSA\"\n",
    "print(address)\n",
    "\n",
    "#(\\t) is a tab, (\\n) is a new line"
   ]
  },
  {
   "cell_type": "markdown",
   "id": "d8523f2b",
   "metadata": {},
   "source": [
    "## Numbers"
   ]
  },
  {
   "cell_type": "code",
   "execution_count": 14,
   "id": "0fab9bb7",
   "metadata": {},
   "outputs": [
    {
     "ename": "SyntaxError",
     "evalue": "invalid syntax (854721699.py, line 2)",
     "output_type": "error",
     "traceback": [
      "\u001b[0;36m  File \u001b[0;32m\"/var/folders/zb/0njw7gnj0qvb7157ffdxt_xc0000gn/T/ipykernel_59147/854721699.py\"\u001b[0;36m, line \u001b[0;32m2\u001b[0m\n\u001b[0;31m    >>>5 - 3\u001b[0m\n\u001b[0m    ^\u001b[0m\n\u001b[0;31mSyntaxError\u001b[0m\u001b[0;31m:\u001b[0m invalid syntax\n"
     ]
    }
   ],
   "source": [
    "2 + 2\n",
    "5 - 3\n",
    "6 / 2\n",
    "3 * 3\n",
    "5 ** 5"
   ]
  },
  {
   "cell_type": "markdown",
   "id": "46bdfac7",
   "metadata": {},
   "source": [
    "## Floats"
   ]
  },
  {
   "cell_type": "code",
   "execution_count": 15,
   "id": "04dbdf8a",
   "metadata": {},
   "outputs": [
    {
     "data": {
      "text/plain": [
       "5.0"
      ]
     },
     "execution_count": 15,
     "metadata": {},
     "output_type": "execute_result"
    }
   ],
   "source": [
    "2.0 + 3.0"
   ]
  },
  {
   "cell_type": "code",
   "execution_count": 16,
   "id": "e7eb8105",
   "metadata": {
    "scrolled": true
   },
   "outputs": [
    {
     "data": {
      "text/plain": [
       "1.5"
      ]
     },
     "execution_count": 16,
     "metadata": {},
     "output_type": "execute_result"
    }
   ],
   "source": [
    "3.0 / 2.0"
   ]
  },
  {
   "cell_type": "markdown",
   "id": "eda3278e",
   "metadata": {},
   "source": [
    "## Numbers To Strings"
   ]
  },
  {
   "cell_type": "code",
   "execution_count": 32,
   "id": "0d4d398b",
   "metadata": {},
   "outputs": [
    {
     "name": "stdout",
     "output_type": "stream",
     "text": [
      "Hi Ella welcome back, today's date is the 16 of November.\n"
     ]
    },
    {
     "data": {
      "text/plain": [
       "'How to take non-string values and convert them into strings\\n'"
      ]
     },
     "execution_count": 32,
     "metadata": {},
     "output_type": "execute_result"
    }
   ],
   "source": [
    "name = 'ella'.title()\n",
    "date_today = 16\n",
    "\n",
    "welcome_message = \"Hi \" + name + \" welcome back, today's date is the \" + str(date_today) + \" of November.\"\n",
    "\n",
    "print(welcome_message)\n",
    "\n",
    "\n",
    "\n",
    "# How to take non-string values and convert them into strings\n",
    "\n"
   ]
  },
  {
   "cell_type": "markdown",
   "id": "ddafe667",
   "metadata": {},
   "source": [
    "## Comments"
   ]
  },
  {
   "cell_type": "code",
   "execution_count": 34,
   "id": "21c37a3d",
   "metadata": {},
   "outputs": [],
   "source": [
    "# Is how you can leave comments for yourself or other coders without the program running it"
   ]
  },
  {
   "cell_type": "markdown",
   "id": "8e87a78b",
   "metadata": {},
   "source": [
    "## Lists"
   ]
  },
  {
   "cell_type": "code",
   "execution_count": 41,
   "id": "78772d69",
   "metadata": {},
   "outputs": [
    {
     "name": "stdout",
     "output_type": "stream",
     "text": [
      "['january', 'february', 'march', 'april']\n",
      "january\n",
      "January\n",
      "February\n",
      "I was born in January.\n"
     ]
    }
   ],
   "source": [
    "# items in list are called elements\n",
    "\n",
    "months = ['january', 'february', 'march', 'april',]\n",
    "print(months)\n",
    "\n",
    "#starts with number 0\n",
    "\n",
    "print(months[0])\n",
    "\n",
    "print(months[0].title())\n",
    "print(months[1].title())\n",
    "\n",
    "\n",
    "message = \"I was born in \" + months[0].title() + \".\"\n",
    "print(message)"
   ]
  },
  {
   "cell_type": "markdown",
   "id": "ea774ea4",
   "metadata": {},
   "source": [
    "## Birthday Lists / Strings"
   ]
  },
  {
   "cell_type": "code",
   "execution_count": 1,
   "id": "ab1e2ba3",
   "metadata": {
    "scrolled": true
   },
   "outputs": [
    {
     "name": "stdout",
     "output_type": "stream",
     "text": [
      "['narch', 'november', 'december']\n",
      "['march', 'november', 'december']\n",
      "['march', 'november', 'december', 'june']\n",
      "[]\n",
      "['august']\n",
      "['may', 'august']\n",
      "['may']\n"
     ]
    }
   ],
   "source": [
    "## 11/17/21\n",
    "\n",
    "\n",
    "## Creating a list of months\n",
    "birthday_months = ['narch', 'november', 'december']\n",
    "print(birthday_months)\n",
    "\n",
    "birthday_months[0] = 'march'\n",
    "print(birthday_months)\n",
    "\n",
    "\n",
    "#how to add an element to your list \".append\"\n",
    "\n",
    "birthday_months.append('june')\n",
    "print(birthday_months)\n",
    "\n",
    "#Creating an empty list\n",
    "birthday_months = []\n",
    "print(birthday_months)\n",
    "\n",
    "#\n",
    "birthday_months.append('august')\n",
    "print(birthday_months)\n",
    "\n",
    "\n",
    "#how to specify where you want to input the element (insert)\n",
    "\n",
    "birthday_months.insert(0, 'may')\n",
    "print(birthday_months)\n",
    "\n",
    "#how to remove an element from the list \n",
    "\n",
    "del birthday_months[1]\n",
    "print(birthday_months)"
   ]
  },
  {
   "cell_type": "markdown",
   "id": "e3958c9a",
   "metadata": {},
   "source": [
    "## Pop Method"
   ]
  },
  {
   "cell_type": "code",
   "execution_count": 12,
   "id": "e9bcc21f",
   "metadata": {},
   "outputs": [
    {
     "name": "stdout",
     "output_type": "stream",
     "text": [
      "['ella@example.com', 'mary@example.com', 'john@example.com']\n",
      "['ella@example.com', 'mary@example.com']\n",
      "john@example.com\n",
      "Your first subscriber was ella@example.com.\n",
      "['ella@example.com', 'mary@example.com', 'john@example.com']\n",
      "['ella@example.com', 'mary@example.com']\n",
      "['mary@example.com', 'john@example.com']\n",
      "\n",
      "This person ella@example.com did not mean to sign up.\n"
     ]
    }
   ],
   "source": [
    "#11/17/21\n",
    "#Author : Ella Wallace\n",
    "#Using the pop method\n",
    "#Removes the last item in a list and lets you work with the item\n",
    "\n",
    "\n",
    "subscribers = ['ella@example.com', 'mary@example.com', 'john@example.com']\n",
    "print(subscribers)\n",
    "\n",
    "popped_subscriber = subscribers.pop()\n",
    "\n",
    "print(subscribers)\n",
    "\n",
    "print(popped_subscriber)\n",
    "\n",
    "subscribers = ['ella@example.com', 'mary@example.com', 'john@example.com']\n",
    "first_subscriber = subscribers.pop(0)\n",
    "print(\"Your first subscriber was \" + first_subscriber + \".\")\n",
    "\n",
    "subscribers = ['ella@example.com', 'mary@example.com', 'john@example.com']\n",
    "print(subscribers)\n",
    "\n",
    "#removing a an item\n",
    "\n",
    "subscribers.remove('john@example.com')\n",
    "print(subscribers)\n",
    "\n",
    "subscribers = ['ella@example.com', 'mary@example.com', 'john@example.com']\n",
    "subscribed_by_mistake = 'ella@example.com'\n",
    "subscribers.remove(subscribed_by_mistake)\n",
    "\n",
    "print(subscribers)\n",
    "\n",
    "#new line (\\n)\n",
    "print(\"\\nThis person \" + subscribed_by_mistake + \" did not mean to sign up.\")"
   ]
  },
  {
   "cell_type": "markdown",
   "id": "f26f680c",
   "metadata": {},
   "source": [
    "## Organizing a List"
   ]
  },
  {
   "cell_type": "code",
   "execution_count": 16,
   "id": "fc53b5b2",
   "metadata": {},
   "outputs": [
    {
     "name": "stdout",
     "output_type": "stream",
     "text": [
      "['june', 'may', 'november']\n",
      "['november', 'may', 'june']\n",
      "['june', 'may', 'november']\n",
      "['may', 'november', 'june']\n",
      "['friday', 'thursday', 'wednesday', 'tuesday', 'monday']\n"
     ]
    }
   ],
   "source": [
    "# 11 / 17 / 21\n",
    "# Author : Ella Wallace\n",
    "\n",
    "#Creating a list of months\n",
    "birthday_months = ['may', 'november', 'june']\n",
    "\n",
    "birthday_months.sort()\n",
    "print(birthday_months)\n",
    "\n",
    "#using the reverse sort method\n",
    "birthday_months.sort(reverse=True)\n",
    "print(birthday_months)\n",
    "\n",
    "birthday_months = ['may', 'november', 'june']\n",
    "print(sorted(birthday_months))\n",
    "\n",
    "print(birthday_months)\n",
    "\n",
    "birthday_days = ['monday', 'tuesday', 'wednesday', 'thursday', 'friday']\n",
    "birthday_days.reverse()\n",
    "print(birthday_days)\n"
   ]
  },
  {
   "cell_type": "markdown",
   "id": "941986f8",
   "metadata": {},
   "source": [
    "## More on Lists (how to find the length of a list)\n"
   ]
  },
  {
   "cell_type": "code",
   "execution_count": 21,
   "id": "f5f9f858",
   "metadata": {},
   "outputs": [
    {
     "name": "stdout",
     "output_type": "stream",
     "text": [
      "7\n"
     ]
    }
   ],
   "source": [
    "# 11 / 17 / 21\n",
    "# Ella Wallace\n",
    "# How to find the lenth of a list (len())\n",
    "\n",
    "#list of days of the week\n",
    "birthday_days = ['monday', 'tuesday', 'wednesday', 'thursday', 'friday', 'saturday', 'sunday']\n",
    "\n",
    "print(len(birthday_days))\n",
    "\n",
    "\n"
   ]
  },
  {
   "cell_type": "markdown",
   "id": "cc37802d",
   "metadata": {},
   "source": [
    "## Looping through a Loop"
   ]
  },
  {
   "cell_type": "code",
   "execution_count": 29,
   "id": "1a7a2b4b",
   "metadata": {},
   "outputs": [
    {
     "name": "stdout",
     "output_type": "stream",
     "text": [
      "january\n",
      "January\n",
      "\n",
      "The next month is: \n",
      "Goodbye!\n",
      "February\n",
      "\n",
      "The next month is: \n",
      "Goodbye!\n",
      "March\n",
      "\n",
      "The next month is: \n",
      "Goodbye!\n",
      "April\n",
      "\n",
      "The next month is: \n",
      "Goodbye!\n",
      "May\n",
      "\n",
      "The next month is: \n",
      "Goodbye!\n",
      "June\n",
      "\n",
      "The next month is: \n",
      "Goodbye!\n",
      "July\n",
      "\n",
      "The next month is: \n",
      "Goodbye!\n",
      "August\n",
      "\n",
      "The next month is: \n",
      "Goodbye!\n",
      "September\n",
      "\n",
      "The next month is: \n",
      "Goodbye!\n",
      "October\n",
      "\n",
      "The next month is: \n",
      "Goodbye!\n",
      "November\n",
      "\n",
      "The next month is: \n",
      "Goodbye!\n",
      "December\n",
      "\n",
      "The next month is: \n",
      "Goodbye!\n"
     ]
    }
   ],
   "source": [
    "# 11 / 17 / 21\n",
    "# Ella Wallace\n",
    "#Looping through a list\n",
    "\n",
    "months = [ 'january', 'february', 'march', 'april', 'may', 'june', 'july', 'august', 'september', 'october', 'november', 'december']\n",
    "print(months[0])\n",
    "\n",
    "# Using a for loop to print a list\n",
    "for month in months: \n",
    "    print(month.title() + \"\\n\")\n",
    "    \n",
    "    print(\"The next month is: \")\n",
    "    \n",
    "    print(\"Goodbye!\")"
   ]
  },
  {
   "cell_type": "markdown",
   "id": "6b2a467f",
   "metadata": {},
   "source": [
    "## Numerical Lists"
   ]
  },
  {
   "cell_type": "code",
   "execution_count": 32,
   "id": "76984d12",
   "metadata": {},
   "outputs": [
    {
     "name": "stdout",
     "output_type": "stream",
     "text": [
      "1\n",
      "2\n",
      "3\n",
      "4\n",
      "5\n"
     ]
    }
   ],
   "source": [
    "# 11 / 17 / 21\n",
    "# Ella Wallace\n",
    "#The Range function\n",
    "\n",
    "#Using the range function\n",
    "for value in range(1,6):\n",
    "    print(value)"
   ]
  },
  {
   "cell_type": "markdown",
   "id": "daa1ee47",
   "metadata": {},
   "source": [
    "## Creating a List of Numbers"
   ]
  },
  {
   "cell_type": "code",
   "execution_count": null,
   "id": "88a694a9",
   "metadata": {},
   "outputs": [],
   "source": [
    "# 11 / 17 / 21\n",
    "# Ella Wallace\n",
    "#Creating a list of numbers\n",
    "\n",
    "#Convert numbers in to a list\n",
    "numbers = list(range(1,6))"
   ]
  }
 ],
 "metadata": {
  "kernelspec": {
   "display_name": "Python 3 (ipykernel)",
   "language": "python",
   "name": "python3"
  },
  "language_info": {
   "codemirror_mode": {
    "name": "ipython",
    "version": 3
   },
   "file_extension": ".py",
   "mimetype": "text/x-python",
   "name": "python",
   "nbconvert_exporter": "python",
   "pygments_lexer": "ipython3",
   "version": "3.9.7"
  }
 },
 "nbformat": 4,
 "nbformat_minor": 5
}
