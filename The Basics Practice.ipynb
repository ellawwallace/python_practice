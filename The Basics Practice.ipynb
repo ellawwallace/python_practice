{
 "cells": [
  {
   "cell_type": "markdown",
   "id": "9385a40d",
   "metadata": {},
   "source": [
    "## Practice variable"
   ]
  },
  {
   "cell_type": "code",
   "execution_count": 4,
   "id": "c4f07b14",
   "metadata": {},
   "outputs": [],
   "source": [
    "first_name = \"ella\"\n",
    "last_name = \"wallace\""
   ]
  },
  {
   "cell_type": "code",
   "execution_count": 6,
   "id": "1454ed54",
   "metadata": {},
   "outputs": [
    {
     "name": "stdout",
     "output_type": "stream",
     "text": [
      "ella\n",
      "wallace\n"
     ]
    }
   ],
   "source": [
    "print(first_name)\n",
    "print(last_name)"
   ]
  },
  {
   "cell_type": "markdown",
   "id": "f81ece07",
   "metadata": {},
   "source": [
    "## strings"
   ]
  },
  {
   "cell_type": "code",
   "execution_count": 7,
   "id": "8fd9bac5",
   "metadata": {},
   "outputs": [],
   "source": [
    "name = \"Ella Wallace\"\n",
    "name = 'Ella Wallace'\n",
    "\n",
    "movie_line = \"What film is this? 'Show me the money!' \"\n",
    "\n",
    "start_now = 'Let\\s get started with Python.'"
   ]
  },
  {
   "cell_type": "code",
   "execution_count": 12,
   "id": "944055c5",
   "metadata": {},
   "outputs": [
    {
     "name": "stdout",
     "output_type": "stream",
     "text": [
      "What film is this? 'Show me the money!' \n"
     ]
    }
   ],
   "source": [
    "print(movie_line)\n"
   ]
  },
  {
   "cell_type": "markdown",
   "id": "6a954371",
   "metadata": {},
   "source": [
    "## concatenation string"
   ]
  },
  {
   "cell_type": "code",
   "execution_count": 15,
   "id": "3bbf9556",
   "metadata": {},
   "outputs": [
    {
     "name": "stdout",
     "output_type": "stream",
     "text": [
      "Hi Ella\n",
      "Dear Miss. Wallace\n",
      "EllaWallace\n",
      "Ella Wallace\n"
     ]
    }
   ],
   "source": [
    "#combining strings\n",
    "\n",
    "name = \"Ella Wallace\"\n",
    "\n",
    "first_name = \"Ella\"\n",
    "last_name = \"Wallace\"\n",
    "\n",
    "print(\"Hi \" + first_name)\n",
    "\n",
    "print(\"Dear Miss. \" + last_name)\n",
    "\n",
    "\n",
    "print(first_name + last_name)\n",
    "\n",
    "#no spaces ^\n",
    "\n",
    "\n",
    "print(first_name + \" \" + last_name)\n",
    "\n",
    "#with space^\n"
   ]
  },
  {
   "cell_type": "markdown",
   "id": "00b790a8",
   "metadata": {},
   "source": [
    "## string title method"
   ]
  },
  {
   "cell_type": "code",
   "execution_count": 18,
   "id": "0393d125",
   "metadata": {},
   "outputs": [
    {
     "name": "stdout",
     "output_type": "stream",
     "text": [
      "Ella\n",
      "Ella Wallace\n",
      "Wallace\n"
     ]
    }
   ],
   "source": [
    "name = \"ella wallace\"\n",
    "\n",
    "first_name = \"ella\"\n",
    "last_name = \"wallace\"\n",
    "\n",
    "print(first_name.title())\n",
    "\n",
    "#string title method: how to capitalize first letter if not cpaitalized,  \".title()\"\n",
    "\n",
    "print(name.title())\n",
    "\n",
    "print(last_name.title())"
   ]
  },
  {
   "cell_type": "markdown",
   "id": "35d021c9",
   "metadata": {},
   "source": [
    "## Find Method"
   ]
  },
  {
   "cell_type": "code",
   "execution_count": 22,
   "id": "898e9797",
   "metadata": {},
   "outputs": [
    {
     "name": "stdout",
     "output_type": "stream",
     "text": [
      "21\n",
      "0\n"
     ]
    }
   ],
   "source": [
    "my_book = \"My favorite book is 'Harry Potter'.\".find('Harry')\n",
    "\n",
    "print(my_book)\n",
    "\n",
    "#Finds the index starting with 0..1,2,3...etc \n",
    "\n",
    "\n",
    "subject = \"$$$ Get Rich Now $$$\".find('$$$')\n",
    "print(subject)"
   ]
  },
  {
   "cell_type": "markdown",
   "id": "2cd5a555",
   "metadata": {},
   "source": [
    "## Lower Method"
   ]
  },
  {
   "cell_type": "code",
   "execution_count": 1,
   "id": "3385be0f",
   "metadata": {},
   "outputs": [
    {
     "name": "stdout",
     "output_type": "stream",
     "text": [
      "ella wallace\n"
     ]
    }
   ],
   "source": [
    "name = \"ELLA WALLACE\".lower()\n",
    "print(name)\n",
    "\n",
    "#How to transfer all letters to lower case\n"
   ]
  },
  {
   "cell_type": "markdown",
   "id": "adb716d2",
   "metadata": {},
   "source": [
    "## Replace Method"
   ]
  },
  {
   "cell_type": "code",
   "execution_count": 2,
   "id": "83096a10",
   "metadata": {},
   "outputs": [
    {
     "name": "stdout",
     "output_type": "stream",
     "text": [
      "My favorite book is 'Elon Musk'.\n"
     ]
    }
   ],
   "source": [
    "#How to find a word, and replace it\n",
    "\n",
    "\n",
    "my_book = \"My favorite book is 'Elom Musk'.\".replace('Elom', 'Elon')\n",
    "print(my_book)"
   ]
  },
  {
   "cell_type": "markdown",
   "id": "fc2efe07",
   "metadata": {},
   "source": [
    "## Strip Method"
   ]
  },
  {
   "cell_type": "code",
   "execution_count": 33,
   "id": "673dc219",
   "metadata": {},
   "outputs": [
    {
     "name": "stdout",
     "output_type": "stream",
     "text": [
      "    102 Main Street\n"
     ]
    }
   ],
   "source": [
    "address = \"    102 Main Street      \"\n",
    "print(address.rstrip())\n",
    "\n",
    "#if someone put spaces before or after it gets rid of it. if you want to get rid of extra space of left side of text (.lstrip()), if on right side of text (.rstrip())\n"
   ]
  },
  {
   "cell_type": "markdown",
   "id": "7ae1ae5d",
   "metadata": {},
   "source": [
    "## Adding White Space"
   ]
  },
  {
   "cell_type": "code",
   "execution_count": 11,
   "id": "8c39a7d3",
   "metadata": {},
   "outputs": [
    {
     "name": "stdout",
     "output_type": "stream",
     "text": [
      "101 Main Street \tUSA\n",
      "102 Main Street \n",
      "USA\n"
     ]
    }
   ],
   "source": [
    "address = \"101 Main Street \\tUSA\"\n",
    "print(address)\n",
    "\n",
    "address = \"102 Main Street \\nUSA\"\n",
    "print(address)\n",
    "\n",
    "#(\\t) is a tab, (\\n) is a new line"
   ]
  },
  {
   "cell_type": "markdown",
   "id": "943bdd97",
   "metadata": {},
   "source": [
    "## Numbers"
   ]
  },
  {
   "cell_type": "code",
   "execution_count": 14,
   "id": "4440c243",
   "metadata": {},
   "outputs": [
    {
     "ename": "SyntaxError",
     "evalue": "invalid syntax (854721699.py, line 2)",
     "output_type": "error",
     "traceback": [
      "\u001b[0;36m  File \u001b[0;32m\"/var/folders/zb/0njw7gnj0qvb7157ffdxt_xc0000gn/T/ipykernel_59147/854721699.py\"\u001b[0;36m, line \u001b[0;32m2\u001b[0m\n\u001b[0;31m    >>>5 - 3\u001b[0m\n\u001b[0m    ^\u001b[0m\n\u001b[0;31mSyntaxError\u001b[0m\u001b[0;31m:\u001b[0m invalid syntax\n"
     ]
    }
   ],
   "source": [
    "2 + 2\n",
    "5 - 3\n",
    "6 / 2\n",
    "3 * 3\n",
    "5 ** 5"
   ]
  },
  {
   "cell_type": "markdown",
   "id": "9f72c173",
   "metadata": {},
   "source": [
    "## Floats"
   ]
  },
  {
   "cell_type": "code",
   "execution_count": 15,
   "id": "38476bcb",
   "metadata": {},
   "outputs": [
    {
     "data": {
      "text/plain": [
       "5.0"
      ]
     },
     "execution_count": 15,
     "metadata": {},
     "output_type": "execute_result"
    }
   ],
   "source": [
    "2.0 + 3.0"
   ]
  },
  {
   "cell_type": "code",
   "execution_count": 16,
   "id": "639c2e48",
   "metadata": {
    "scrolled": true
   },
   "outputs": [
    {
     "data": {
      "text/plain": [
       "1.5"
      ]
     },
     "execution_count": 16,
     "metadata": {},
     "output_type": "execute_result"
    }
   ],
   "source": [
    "3.0 / 2.0"
   ]
  },
  {
   "cell_type": "markdown",
   "id": "f4f07d7b",
   "metadata": {},
   "source": [
    "## Numbers To Strings"
   ]
  },
  {
   "cell_type": "code",
   "execution_count": 32,
   "id": "5d173123",
   "metadata": {},
   "outputs": [
    {
     "name": "stdout",
     "output_type": "stream",
     "text": [
      "Hi Ella welcome back, today's date is the 16 of November.\n"
     ]
    },
    {
     "data": {
      "text/plain": [
       "'How to take non-string values and convert them into strings\\n'"
      ]
     },
     "execution_count": 32,
     "metadata": {},
     "output_type": "execute_result"
    }
   ],
   "source": [
    "name = 'ella'.title()\n",
    "date_today = 16\n",
    "\n",
    "welcome_message = \"Hi \" + name + \" welcome back, today's date is the \" + str(date_today) + \" of November.\"\n",
    "\n",
    "print(welcome_message)\n",
    "\n",
    "\n",
    "\n",
    "# How to take non-string values and convert them into strings\n",
    "\n"
   ]
  },
  {
   "cell_type": "markdown",
   "id": "b11a7a33",
   "metadata": {},
   "source": [
    "## Comments"
   ]
  },
  {
   "cell_type": "code",
   "execution_count": 34,
   "id": "46f7e2a8",
   "metadata": {},
   "outputs": [],
   "source": [
    "# Is how you can leave comments for yourself or other coders without the program running it"
   ]
  },
  {
   "cell_type": "markdown",
   "id": "5f0de063",
   "metadata": {},
   "source": [
    "## Lists"
   ]
  },
  {
   "cell_type": "code",
   "execution_count": 41,
   "id": "2974a06a",
   "metadata": {},
   "outputs": [
    {
     "name": "stdout",
     "output_type": "stream",
     "text": [
      "['january', 'february', 'march', 'april']\n",
      "january\n",
      "January\n",
      "February\n",
      "I was born in January.\n"
     ]
    }
   ],
   "source": [
    "# items in list are called elements\n",
    "\n",
    "months = ['january', 'february', 'march', 'april',]\n",
    "print(months)\n",
    "\n",
    "#starts with number 0\n",
    "\n",
    "print(months[0])\n",
    "\n",
    "print(months[0].title())\n",
    "print(months[1].title())\n",
    "\n",
    "\n",
    "message = \"I was born in \" + months[0].title() + \".\"\n",
    "print(message)"
   ]
  },
  {
   "cell_type": "markdown",
   "id": "b2105bec",
   "metadata": {},
   "source": [
    "## Birthday Lists"
   ]
  },
  {
   "cell_type": "code",
   "execution_count": 49,
   "id": "65ec1f12",
   "metadata": {},
   "outputs": [
    {
     "name": "stdout",
     "output_type": "stream",
     "text": [
      "['narch', 'november', 'december']\n",
      "['march', 'november', 'december']\n",
      "['march', 'november', 'december', 'june']\n",
      "[]\n",
      "['august']\n",
      "['may', 'august']\n",
      "['may']\n"
     ]
    }
   ],
   "source": [
    "birthday_months = ['narch', 'november', 'december']\n",
    "print(birthday_months)\n",
    "\n",
    "birthday_months[0] = 'march'\n",
    "print(birthday_months)\n",
    "\n",
    "\n",
    "#how to add an element to your list \".append\"\n",
    "\n",
    "birthday_months.append('june')\n",
    "print(birthday_months)\n",
    "\n",
    "birthday_months = []\n",
    "print(birthday_months)\n",
    "\n",
    "birthday_months.append('august')\n",
    "print(birthday_months)\n",
    "\n",
    "\n",
    "#how to specify where you want to input the element (insert)\n",
    "\n",
    "birthday_months.insert(0, 'may')\n",
    "print(birthday_months)\n",
    "\n",
    "#how to remove an element from the list \n",
    "\n",
    "del birthday_months[1]\n",
    "print(birthday_months)"
   ]
  },
  {
   "cell_type": "code",
   "execution_count": null,
   "id": "434f4c65",
   "metadata": {},
   "outputs": [],
   "source": []
  }
 ],
 "metadata": {
  "kernelspec": {
   "display_name": "Python 3 (ipykernel)",
   "language": "python",
   "name": "python3"
  },
  "language_info": {
   "codemirror_mode": {
    "name": "ipython",
    "version": 3
   },
   "file_extension": ".py",
   "mimetype": "text/x-python",
   "name": "python",
   "nbconvert_exporter": "python",
   "pygments_lexer": "ipython3",
   "version": "3.9.7"
  }
 },
 "nbformat": 4,
 "nbformat_minor": 5
}
