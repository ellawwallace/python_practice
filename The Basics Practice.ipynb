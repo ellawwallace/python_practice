{
 "cells": [
  {
   "cell_type": "markdown",
   "id": "9385a40d",
   "metadata": {},
   "source": [
    "## Practice variable"
   ]
  },
  {
   "cell_type": "code",
   "execution_count": 4,
   "id": "c4f07b14",
   "metadata": {},
   "outputs": [],
   "source": [
    "first_name = \"ella\"\n",
    "last_name = \"wallace\""
   ]
  },
  {
   "cell_type": "code",
   "execution_count": 6,
   "id": "1454ed54",
   "metadata": {},
   "outputs": [
    {
     "name": "stdout",
     "output_type": "stream",
     "text": [
      "ella\n",
      "wallace\n"
     ]
    }
   ],
   "source": [
    "print(first_name)\n",
    "print(last_name)"
   ]
  },
  {
   "cell_type": "markdown",
   "id": "f81ece07",
   "metadata": {},
   "source": [
    "## strings"
   ]
  },
  {
   "cell_type": "code",
   "execution_count": 7,
   "id": "8fd9bac5",
   "metadata": {},
   "outputs": [],
   "source": [
    "name = \"Ella Wallace\"\n",
    "name = 'Ella Wallace'\n",
    "\n",
    "movie_line = \"What film is this? 'Show me the money!' \"\n",
    "\n",
    "start_now = 'Let\\s get started with Python.'"
   ]
  },
  {
   "cell_type": "code",
   "execution_count": 12,
   "id": "944055c5",
   "metadata": {},
   "outputs": [
    {
     "name": "stdout",
     "output_type": "stream",
     "text": [
      "What film is this? 'Show me the money!' \n"
     ]
    }
   ],
   "source": [
    "print(movie_line)\n"
   ]
  },
  {
   "cell_type": "markdown",
   "id": "6a954371",
   "metadata": {},
   "source": [
    "## concatenation string"
   ]
  },
  {
   "cell_type": "code",
   "execution_count": 15,
   "id": "3bbf9556",
   "metadata": {},
   "outputs": [
    {
     "name": "stdout",
     "output_type": "stream",
     "text": [
      "Hi Ella\n",
      "Dear Miss. Wallace\n",
      "EllaWallace\n",
      "Ella Wallace\n"
     ]
    }
   ],
   "source": [
    "\"\"\"combining strings\n",
    "\"\"\"\n",
    "name = \"Ella Wallace\"\n",
    "\n",
    "first_name = \"Ella\"\n",
    "last_name = \"Wallace\"\n",
    "\n",
    "print(\"Hi \" + first_name)\n",
    "\n",
    "print(\"Dear Miss. \" + last_name)\n",
    "\n",
    "\n",
    "print(first_name + last_name)\n",
    "\n",
    "\"\"\"no spaces ^\n",
    "\"\"\"\n",
    "\n",
    "print(first_name + \" \" + last_name)\n",
    "\n",
    "\"\"\"with space^\n",
    "\"\"\""
   ]
  },
  {
   "cell_type": "markdown",
   "id": "00b790a8",
   "metadata": {},
   "source": [
    "## string title method"
   ]
  },
  {
   "cell_type": "code",
   "execution_count": 18,
   "id": "0393d125",
   "metadata": {},
   "outputs": [
    {
     "name": "stdout",
     "output_type": "stream",
     "text": [
      "Ella\n",
      "Ella Wallace\n",
      "Wallace\n"
     ]
    }
   ],
   "source": [
    "name = \"ella wallace\"\n",
    "\n",
    "first_name = \"ella\"\n",
    "last_name = \"wallace\"\n",
    "\n",
    "print(first_name.title())\n",
    "\n",
    "\"\"\"string title method: how to capitalize first letter if not cpaitalized\n",
    "     \".title()\"\n",
    "\"\"\"\n",
    "\n",
    "print(name.title())\n",
    "\n",
    "print(last_name.title())"
   ]
  },
  {
   "cell_type": "markdown",
   "id": "35d021c9",
   "metadata": {},
   "source": [
    "## Find Method"
   ]
  },
  {
   "cell_type": "code",
   "execution_count": 22,
   "id": "898e9797",
   "metadata": {},
   "outputs": [
    {
     "name": "stdout",
     "output_type": "stream",
     "text": [
      "21\n",
      "0\n"
     ]
    }
   ],
   "source": [
    "my_book = \"My favorite book is 'Harry Potter'.\".find('Harry')\n",
    "\n",
    "print(my_book)\n",
    "\n",
    "\"\"\"Finds the index starting with 0..1,2,3...etc \n",
    "\"\"\"\n",
    "\n",
    "subject = \"$$$ Get Rich Now $$$\".find('$$$')\n",
    "print(subject)"
   ]
  },
  {
   "cell_type": "markdown",
   "id": "2cd5a555",
   "metadata": {},
   "source": [
    "## Lower Method"
   ]
  },
  {
   "cell_type": "code",
   "execution_count": null,
   "id": "3385be0f",
   "metadata": {},
   "outputs": [],
   "source": []
  }
 ],
 "metadata": {
  "kernelspec": {
   "display_name": "Python 3 (ipykernel)",
   "language": "python",
   "name": "python3"
  },
  "language_info": {
   "codemirror_mode": {
    "name": "ipython",
    "version": 3
   },
   "file_extension": ".py",
   "mimetype": "text/x-python",
   "name": "python",
   "nbconvert_exporter": "python",
   "pygments_lexer": "ipython3",
   "version": "3.9.7"
  }
 },
 "nbformat": 4,
 "nbformat_minor": 5
}
